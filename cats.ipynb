{
 "cells": [
  {
   "cell_type": "code",
   "execution_count": 1,
   "metadata": {},
   "outputs": [],
   "source": [
    "# Importing libraries and packages:\n",
    "\n",
    "from sklearn.neural_network import MLPClassifier\n",
    "\n",
    "from sklearn.model_selection import train_test_split\n",
    "from sklearn.model_selection import cross_val_score\n",
    "from sklearn.metrics import accuracy_score\n",
    "from sklearn import metrics\n",
    "import matplotlib.pyplot as plt\n",
    "import numpy as np\n",
    "import pandas as pd\n",
    "from sklearn.preprocessing import MinMaxScaler"
   ]
  },
  {
   "cell_type": "code",
   "execution_count": 2,
   "metadata": {},
   "outputs": [],
   "source": [
    "from sklearn.neighbors import KNeighborsClassifier\n",
    "from sklearn.linear_model import LogisticRegression\n",
    "from sklearn.tree import DecisionTreeClassifier\n",
    "from sklearn.ensemble import RandomForestClassifier"
   ]
  },
  {
   "cell_type": "code",
   "execution_count": 63,
   "metadata": {},
   "outputs": [],
   "source": [
    "import pandas as pd\n",
    " \n",
    "train_df = pd.read_csv('train.csv')\n",
    "col = pd.read_csv('col.csv')"
   ]
  },
  {
   "cell_type": "code",
   "execution_count": 64,
   "metadata": {
    "scrolled": true
   },
   "outputs": [],
   "source": [
    "train_df = train_df.sample(n=100000,random_state=1)"
   ]
  },
  {
   "cell_type": "code",
   "execution_count": 65,
   "metadata": {
    "scrolled": true
   },
   "outputs": [
    {
     "data": {
      "text/plain": [
       "205179    Mar\n",
       "101710    Nov\n",
       "89106     Oct\n",
       "193046    Jan\n",
       "99093     Aug\n",
       "105506    Apr\n",
       "298780    Oct\n",
       "44748     Feb\n",
       "288650    Apr\n",
       "55207     Aug\n",
       "185212    Dec\n",
       "2346      Feb\n",
       "133629    Oct\n",
       "158701    Sep\n",
       "80970     Feb\n",
       "142289    Apr\n",
       "89958     Mar\n",
       "132101    Oct\n",
       "249578    Mar\n",
       "250431    Sep\n",
       "4625      Oct\n",
       "227317    Jan\n",
       "286677    Nov\n",
       "151702    Aug\n",
       "295506    Feb\n",
       "83005     Feb\n",
       "239735    Apr\n",
       "71270     Mar\n",
       "85352     Nov\n",
       "178971    Jul\n",
       "         ... \n",
       "174032    Jan\n",
       "86259     Oct\n",
       "138714    Dec\n",
       "7748      Apr\n",
       "13322     Jan\n",
       "185846    Jul\n",
       "193412    Sep\n",
       "33198     Mar\n",
       "78343     Mar\n",
       "189655    Jan\n",
       "82389     Feb\n",
       "40783     Dec\n",
       "117707    Sep\n",
       "54632     Sep\n",
       "89083     Jul\n",
       "292727    May\n",
       "53161     Oct\n",
       "241326    May\n",
       "48929     Mar\n",
       "105124    Mar\n",
       "178117    Feb\n",
       "291412    Sep\n",
       "43943     Mar\n",
       "280937    Apr\n",
       "102992    Sep\n",
       "209999    Mar\n",
       "43991     Sep\n",
       "119441    Apr\n",
       "63681     Sep\n",
       "43220     Jan\n",
       "Name: month, Length: 100000, dtype: object"
      ]
     },
     "execution_count": 65,
     "metadata": {},
     "output_type": "execute_result"
    }
   ],
   "source": [
    "train_df['month'] = train_df['month'].apply(lambda x : 'Jan' if x == 1 else x)\n",
    "train_df['month'] = train_df['month'].apply(lambda x : 'Feb' if x == 2 else x)\n",
    "train_df['month'] = train_df['month'].apply(lambda x : 'Mar' if x == 3 else x)\n",
    "train_df['month'] = train_df['month'].apply(lambda x : 'Apr' if x == 4 else x)\n",
    "train_df['month'] = train_df['month'].apply(lambda x : 'May' if x == 5 else x)\n",
    "train_df['month'] = train_df['month'].apply(lambda x : 'Jun' if x == 6 else x)\n",
    "train_df['month'] = train_df['month'].apply(lambda x : 'Jul' if x == 7 else x)\n",
    "train_df['month'] = train_df['month'].apply(lambda x : 'Aug' if x == 8 else x)\n",
    "train_df['month'] = train_df['month'].apply(lambda x : 'Sep' if x == 9 else x)\n",
    "train_df['month'] = train_df['month'].apply(lambda x : 'Oct' if x == 10 else x)\n",
    "train_df['month'] = train_df['month'].apply(lambda x : 'Nov' if x == 11 else x)\n",
    "train_df['month'] = train_df['month'].apply(lambda x : 'Dec' if x == 12 else x)\n",
    "train_df['month']"
   ]
  },
  {
   "cell_type": "code",
   "execution_count": 66,
   "metadata": {},
   "outputs": [],
   "source": [
    "feature_cols = train_df.columns.values\n",
    "# feature_cols = ['ord_5','ord_4','ord_2','ord_1','nom_8','ord_3']\n",
    "    \n",
    "# use the above list to select the features from the original DataFrame\n",
    "X = train_df[feature_cols]\n",
    "\n",
    "X = X.drop(['target','id','nom_9'], axis=1)\n",
    "\n",
    "# select target vector from the DataFrame\n",
    "y = train_df['target']"
   ]
  },
  {
   "cell_type": "code",
   "execution_count": 67,
   "metadata": {},
   "outputs": [
    {
     "name": "stderr",
     "output_type": "stream",
     "text": [
      "c:\\users\\daniel chang\\appdata\\local\\programs\\python\\python37\\lib\\site-packages\\sklearn\\preprocessing\\data.py:334: DataConversionWarning: Data with input dtype uint8, int64 were all converted to float64 by MinMaxScaler.\n",
      "  return self.partial_fit(X, y)\n"
     ]
    },
    {
     "data": {
      "text/html": [
       "<div>\n",
       "<style scoped>\n",
       "    .dataframe tbody tr th:only-of-type {\n",
       "        vertical-align: middle;\n",
       "    }\n",
       "\n",
       "    .dataframe tbody tr th {\n",
       "        vertical-align: top;\n",
       "    }\n",
       "\n",
       "    .dataframe thead th {\n",
       "        text-align: right;\n",
       "    }\n",
       "</style>\n",
       "<table border=\"1\" class=\"dataframe\">\n",
       "  <thead>\n",
       "    <tr style=\"text-align: right;\">\n",
       "      <th></th>\n",
       "      <th>bin_0</th>\n",
       "      <th>bin_1</th>\n",
       "      <th>bin_2</th>\n",
       "      <th>ord_0</th>\n",
       "      <th>bin_3_F</th>\n",
       "      <th>bin_3_T</th>\n",
       "      <th>bin_4_N</th>\n",
       "      <th>bin_4_Y</th>\n",
       "      <th>nom_0_Blue</th>\n",
       "      <th>nom_0_Green</th>\n",
       "      <th>...</th>\n",
       "      <th>month_Dec</th>\n",
       "      <th>month_Feb</th>\n",
       "      <th>month_Jan</th>\n",
       "      <th>month_Jul</th>\n",
       "      <th>month_Jun</th>\n",
       "      <th>month_Mar</th>\n",
       "      <th>month_May</th>\n",
       "      <th>month_Nov</th>\n",
       "      <th>month_Oct</th>\n",
       "      <th>month_Sep</th>\n",
       "    </tr>\n",
       "  </thead>\n",
       "  <tbody>\n",
       "    <tr>\n",
       "      <th>0</th>\n",
       "      <td>0.0</td>\n",
       "      <td>1.0</td>\n",
       "      <td>0.0</td>\n",
       "      <td>0.0</td>\n",
       "      <td>1.0</td>\n",
       "      <td>0.0</td>\n",
       "      <td>1.0</td>\n",
       "      <td>0.0</td>\n",
       "      <td>1.0</td>\n",
       "      <td>0.0</td>\n",
       "      <td>...</td>\n",
       "      <td>0.0</td>\n",
       "      <td>0.0</td>\n",
       "      <td>0.0</td>\n",
       "      <td>0.0</td>\n",
       "      <td>0.0</td>\n",
       "      <td>1.0</td>\n",
       "      <td>0.0</td>\n",
       "      <td>0.0</td>\n",
       "      <td>0.0</td>\n",
       "      <td>0.0</td>\n",
       "    </tr>\n",
       "    <tr>\n",
       "      <th>1</th>\n",
       "      <td>0.0</td>\n",
       "      <td>0.0</td>\n",
       "      <td>0.0</td>\n",
       "      <td>0.0</td>\n",
       "      <td>0.0</td>\n",
       "      <td>1.0</td>\n",
       "      <td>1.0</td>\n",
       "      <td>0.0</td>\n",
       "      <td>0.0</td>\n",
       "      <td>1.0</td>\n",
       "      <td>...</td>\n",
       "      <td>0.0</td>\n",
       "      <td>0.0</td>\n",
       "      <td>0.0</td>\n",
       "      <td>0.0</td>\n",
       "      <td>0.0</td>\n",
       "      <td>0.0</td>\n",
       "      <td>0.0</td>\n",
       "      <td>1.0</td>\n",
       "      <td>0.0</td>\n",
       "      <td>0.0</td>\n",
       "    </tr>\n",
       "    <tr>\n",
       "      <th>2</th>\n",
       "      <td>0.0</td>\n",
       "      <td>0.0</td>\n",
       "      <td>0.0</td>\n",
       "      <td>1.0</td>\n",
       "      <td>0.0</td>\n",
       "      <td>1.0</td>\n",
       "      <td>0.0</td>\n",
       "      <td>1.0</td>\n",
       "      <td>1.0</td>\n",
       "      <td>0.0</td>\n",
       "      <td>...</td>\n",
       "      <td>0.0</td>\n",
       "      <td>0.0</td>\n",
       "      <td>0.0</td>\n",
       "      <td>0.0</td>\n",
       "      <td>0.0</td>\n",
       "      <td>0.0</td>\n",
       "      <td>0.0</td>\n",
       "      <td>0.0</td>\n",
       "      <td>1.0</td>\n",
       "      <td>0.0</td>\n",
       "    </tr>\n",
       "    <tr>\n",
       "      <th>3</th>\n",
       "      <td>0.0</td>\n",
       "      <td>0.0</td>\n",
       "      <td>0.0</td>\n",
       "      <td>0.5</td>\n",
       "      <td>1.0</td>\n",
       "      <td>0.0</td>\n",
       "      <td>0.0</td>\n",
       "      <td>1.0</td>\n",
       "      <td>1.0</td>\n",
       "      <td>0.0</td>\n",
       "      <td>...</td>\n",
       "      <td>0.0</td>\n",
       "      <td>0.0</td>\n",
       "      <td>1.0</td>\n",
       "      <td>0.0</td>\n",
       "      <td>0.0</td>\n",
       "      <td>0.0</td>\n",
       "      <td>0.0</td>\n",
       "      <td>0.0</td>\n",
       "      <td>0.0</td>\n",
       "      <td>0.0</td>\n",
       "    </tr>\n",
       "    <tr>\n",
       "      <th>4</th>\n",
       "      <td>1.0</td>\n",
       "      <td>0.0</td>\n",
       "      <td>0.0</td>\n",
       "      <td>0.0</td>\n",
       "      <td>1.0</td>\n",
       "      <td>0.0</td>\n",
       "      <td>1.0</td>\n",
       "      <td>0.0</td>\n",
       "      <td>1.0</td>\n",
       "      <td>0.0</td>\n",
       "      <td>...</td>\n",
       "      <td>0.0</td>\n",
       "      <td>0.0</td>\n",
       "      <td>0.0</td>\n",
       "      <td>0.0</td>\n",
       "      <td>0.0</td>\n",
       "      <td>0.0</td>\n",
       "      <td>0.0</td>\n",
       "      <td>0.0</td>\n",
       "      <td>0.0</td>\n",
       "      <td>0.0</td>\n",
       "    </tr>\n",
       "  </tbody>\n",
       "</table>\n",
       "<p>5 rows × 4455 columns</p>\n",
       "</div>"
      ],
      "text/plain": [
       "   bin_0  bin_1  bin_2  ord_0  bin_3_F  bin_3_T  bin_4_N  bin_4_Y  nom_0_Blue  \\\n",
       "0    0.0    1.0    0.0    0.0      1.0      0.0      1.0      0.0         1.0   \n",
       "1    0.0    0.0    0.0    0.0      0.0      1.0      1.0      0.0         0.0   \n",
       "2    0.0    0.0    0.0    1.0      0.0      1.0      0.0      1.0         1.0   \n",
       "3    0.0    0.0    0.0    0.5      1.0      0.0      0.0      1.0         1.0   \n",
       "4    1.0    0.0    0.0    0.0      1.0      0.0      1.0      0.0         1.0   \n",
       "\n",
       "   nom_0_Green  ...  month_Dec  month_Feb  month_Jan  month_Jul  month_Jun  \\\n",
       "0          0.0  ...        0.0        0.0        0.0        0.0        0.0   \n",
       "1          1.0  ...        0.0        0.0        0.0        0.0        0.0   \n",
       "2          0.0  ...        0.0        0.0        0.0        0.0        0.0   \n",
       "3          0.0  ...        0.0        0.0        1.0        0.0        0.0   \n",
       "4          0.0  ...        0.0        0.0        0.0        0.0        0.0   \n",
       "\n",
       "   month_Mar  month_May  month_Nov  month_Oct  month_Sep  \n",
       "0        1.0        0.0        0.0        0.0        0.0  \n",
       "1        0.0        0.0        1.0        0.0        0.0  \n",
       "2        0.0        0.0        0.0        1.0        0.0  \n",
       "3        0.0        0.0        0.0        0.0        0.0  \n",
       "4        0.0        0.0        0.0        0.0        0.0  \n",
       "\n",
       "[5 rows x 4455 columns]"
      ]
     },
     "execution_count": 67,
     "metadata": {},
     "output_type": "execute_result"
    }
   ],
   "source": [
    "#get dummies\n",
    "X = pd.get_dummies(X)\n",
    "scalerX = MinMaxScaler(feature_range = (0, 1))\n",
    "X = pd.DataFrame(data = scalerX.fit_transform(X), columns = X.columns.values)\n",
    "X.head()"
   ]
  },
  {
   "cell_type": "code",
   "execution_count": 68,
   "metadata": {},
   "outputs": [
    {
     "data": {
      "text/plain": [
       "(100000, 4455)"
      ]
     },
     "execution_count": 68,
     "metadata": {},
     "output_type": "execute_result"
    }
   ],
   "source": [
    "# X = X.drop(['id','nom_8','nom_9','day'], axis=1)\n",
    "X.shape"
   ]
  },
  {
   "cell_type": "code",
   "execution_count": 69,
   "metadata": {},
   "outputs": [],
   "source": [
    "X_train, X_test, y_train, y_test = train_test_split(X, y, test_size=0.3, random_state=4)"
   ]
  },
  {
   "cell_type": "code",
   "execution_count": 70,
   "metadata": {},
   "outputs": [],
   "source": [
    "X = []\n",
    "y = []"
   ]
  },
  {
   "cell_type": "code",
   "execution_count": null,
   "metadata": {},
   "outputs": [],
   "source": []
  },
  {
   "cell_type": "code",
   "execution_count": 10,
   "metadata": {},
   "outputs": [
    {
     "name": "stderr",
     "output_type": "stream",
     "text": [
      "c:\\users\\daniel chang\\appdata\\local\\programs\\python\\python37\\lib\\site-packages\\ipykernel_launcher.py:1: SettingWithCopyWarning: \n",
      "A value is trying to be set on a copy of a slice from a DataFrame.\n",
      "Try using .loc[row_indexer,col_indexer] = value instead\n",
      "\n",
      "See the caveats in the documentation: http://pandas.pydata.org/pandas-docs/stable/indexing.html#indexing-view-versus-copy\n",
      "  \"\"\"Entry point for launching an IPython kernel.\n"
     ]
    }
   ],
   "source": [
    "X_train['target'] = np.array(y_train)\n",
    "X_train_new = X_train[X_train['target']==0].sample(n=X_train[X_train['target']==1].shape[0], random_state=1)\n",
    "X_train_new = X_train_new.append(X_train[X_train['target']==1].sample(n=X_train[X_train['target']==1].shape[0], random_state=1))\n",
    "X_train_new = X_train_new.sample(n=X_train[X_train['target']==1].shape[0]*2,random_state=2)\n",
    "y_train_new = X_train_new['target']"
   ]
  },
  {
   "cell_type": "code",
   "execution_count": 11,
   "metadata": {},
   "outputs": [],
   "source": [
    "X_train_new = X_train_new.drop(['target'], axis=1)"
   ]
  },
  {
   "cell_type": "code",
   "execution_count": null,
   "metadata": {},
   "outputs": [],
   "source": []
  },
  {
   "cell_type": "code",
   "execution_count": 71,
   "metadata": {},
   "outputs": [
    {
     "name": "stderr",
     "output_type": "stream",
     "text": [
      "c:\\users\\daniel chang\\appdata\\local\\programs\\python\\python37\\lib\\site-packages\\sklearn\\linear_model\\logistic.py:433: FutureWarning: Default solver will be changed to 'lbfgs' in 0.22. Specify a solver to silence this warning.\n",
      "  FutureWarning)\n"
     ]
    },
    {
     "name": "stdout",
     "output_type": "stream",
     "text": [
      "score_lr:  0.7522\n",
      "AUC_lr:  0.7803257297806596\n"
     ]
    }
   ],
   "source": [
    "#Logistic Regression\n",
    "my_logreg = LogisticRegression()\n",
    "my_logreg.fit(X_train, y_train)\n",
    "y_predict_lr = my_logreg.predict(X_test)\n",
    "score_lr = accuracy_score(y_test, y_predict_lr)\n",
    "print('score_lr: ', score_lr)\n",
    "\n",
    "# Estimating the probability (likelihood) of Each Label: \n",
    "y_predict_prob_lr = my_logreg.predict_proba(X_test)\n",
    "\n",
    "fpr, tpr, thresholds = metrics.roc_curve(y_test, y_predict_prob_lr[:,1], pos_label=1)\n",
    "\n",
    "# AUC:\n",
    "AUC_lr = metrics.auc(fpr, tpr)\n",
    "print('AUC_lr: ', AUC_lr)"
   ]
  },
  {
   "cell_type": "code",
   "execution_count": null,
   "metadata": {},
   "outputs": [],
   "source": []
  },
  {
   "cell_type": "code",
   "execution_count": null,
   "metadata": {},
   "outputs": [],
   "source": []
  },
  {
   "cell_type": "code",
   "execution_count": 16,
   "metadata": {},
   "outputs": [],
   "source": [
    "test_df = pd.read_csv('test.csv')\n",
    "test_id = test_df['id']"
   ]
  },
  {
   "cell_type": "code",
   "execution_count": 17,
   "metadata": {},
   "outputs": [],
   "source": [
    "feature_cols = test_df.columns.values\n",
    "\n",
    "# use the above list to select the features from the original DataFrame\n",
    "test_df = test_df[feature_cols]  \n",
    "# X = X.drop(['target','id','bin_4','bin_2','bin_0','bin_3','nom_9','day'], axis=1)\n",
    "test_df = test_df.drop(['id','nom_8','nom_9'], axis=1)"
   ]
  },
  {
   "cell_type": "code",
   "execution_count": 18,
   "metadata": {},
   "outputs": [
    {
     "name": "stderr",
     "output_type": "stream",
     "text": [
      "c:\\users\\daniel chang\\appdata\\local\\programs\\python\\python37\\lib\\site-packages\\sklearn\\preprocessing\\data.py:334: DataConversionWarning: Data with input dtype uint8, int64 were all converted to float64 by MinMaxScaler.\n",
      "  return self.partial_fit(X, y)\n"
     ]
    },
    {
     "data": {
      "text/html": [
       "<div>\n",
       "<style scoped>\n",
       "    .dataframe tbody tr th:only-of-type {\n",
       "        vertical-align: middle;\n",
       "    }\n",
       "\n",
       "    .dataframe tbody tr th {\n",
       "        vertical-align: top;\n",
       "    }\n",
       "\n",
       "    .dataframe thead th {\n",
       "        text-align: right;\n",
       "    }\n",
       "</style>\n",
       "<table border=\"1\" class=\"dataframe\">\n",
       "  <thead>\n",
       "    <tr style=\"text-align: right;\">\n",
       "      <th></th>\n",
       "      <th>bin_0</th>\n",
       "      <th>bin_1</th>\n",
       "      <th>bin_2</th>\n",
       "      <th>ord_0</th>\n",
       "      <th>day</th>\n",
       "      <th>month</th>\n",
       "      <th>bin_3_F</th>\n",
       "      <th>bin_3_T</th>\n",
       "      <th>bin_4_N</th>\n",
       "      <th>bin_4_Y</th>\n",
       "      <th>...</th>\n",
       "      <th>ord_5_vq</th>\n",
       "      <th>ord_5_vy</th>\n",
       "      <th>ord_5_wu</th>\n",
       "      <th>ord_5_wy</th>\n",
       "      <th>ord_5_xP</th>\n",
       "      <th>ord_5_xy</th>\n",
       "      <th>ord_5_yN</th>\n",
       "      <th>ord_5_yY</th>\n",
       "      <th>ord_5_yc</th>\n",
       "      <th>ord_5_zU</th>\n",
       "    </tr>\n",
       "  </thead>\n",
       "  <tbody>\n",
       "    <tr>\n",
       "      <th>0</th>\n",
       "      <td>0.0</td>\n",
       "      <td>0.0</td>\n",
       "      <td>1.0</td>\n",
       "      <td>0.5</td>\n",
       "      <td>0.666667</td>\n",
       "      <td>0.909091</td>\n",
       "      <td>0.0</td>\n",
       "      <td>1.0</td>\n",
       "      <td>0.0</td>\n",
       "      <td>1.0</td>\n",
       "      <td>...</td>\n",
       "      <td>0.0</td>\n",
       "      <td>0.0</td>\n",
       "      <td>0.0</td>\n",
       "      <td>0.0</td>\n",
       "      <td>0.0</td>\n",
       "      <td>0.0</td>\n",
       "      <td>0.0</td>\n",
       "      <td>0.0</td>\n",
       "      <td>0.0</td>\n",
       "      <td>0.0</td>\n",
       "    </tr>\n",
       "    <tr>\n",
       "      <th>1</th>\n",
       "      <td>0.0</td>\n",
       "      <td>0.0</td>\n",
       "      <td>0.0</td>\n",
       "      <td>0.0</td>\n",
       "      <td>1.000000</td>\n",
       "      <td>0.363636</td>\n",
       "      <td>0.0</td>\n",
       "      <td>1.0</td>\n",
       "      <td>1.0</td>\n",
       "      <td>0.0</td>\n",
       "      <td>...</td>\n",
       "      <td>0.0</td>\n",
       "      <td>0.0</td>\n",
       "      <td>0.0</td>\n",
       "      <td>0.0</td>\n",
       "      <td>0.0</td>\n",
       "      <td>0.0</td>\n",
       "      <td>0.0</td>\n",
       "      <td>0.0</td>\n",
       "      <td>0.0</td>\n",
       "      <td>0.0</td>\n",
       "    </tr>\n",
       "    <tr>\n",
       "      <th>2</th>\n",
       "      <td>1.0</td>\n",
       "      <td>0.0</td>\n",
       "      <td>1.0</td>\n",
       "      <td>0.5</td>\n",
       "      <td>0.000000</td>\n",
       "      <td>1.000000</td>\n",
       "      <td>1.0</td>\n",
       "      <td>0.0</td>\n",
       "      <td>0.0</td>\n",
       "      <td>1.0</td>\n",
       "      <td>...</td>\n",
       "      <td>0.0</td>\n",
       "      <td>0.0</td>\n",
       "      <td>0.0</td>\n",
       "      <td>0.0</td>\n",
       "      <td>0.0</td>\n",
       "      <td>0.0</td>\n",
       "      <td>0.0</td>\n",
       "      <td>0.0</td>\n",
       "      <td>0.0</td>\n",
       "      <td>0.0</td>\n",
       "    </tr>\n",
       "    <tr>\n",
       "      <th>3</th>\n",
       "      <td>0.0</td>\n",
       "      <td>0.0</td>\n",
       "      <td>1.0</td>\n",
       "      <td>0.0</td>\n",
       "      <td>0.166667</td>\n",
       "      <td>0.181818</td>\n",
       "      <td>0.0</td>\n",
       "      <td>1.0</td>\n",
       "      <td>0.0</td>\n",
       "      <td>1.0</td>\n",
       "      <td>...</td>\n",
       "      <td>0.0</td>\n",
       "      <td>0.0</td>\n",
       "      <td>0.0</td>\n",
       "      <td>0.0</td>\n",
       "      <td>0.0</td>\n",
       "      <td>0.0</td>\n",
       "      <td>0.0</td>\n",
       "      <td>0.0</td>\n",
       "      <td>0.0</td>\n",
       "      <td>0.0</td>\n",
       "    </tr>\n",
       "    <tr>\n",
       "      <th>4</th>\n",
       "      <td>0.0</td>\n",
       "      <td>1.0</td>\n",
       "      <td>1.0</td>\n",
       "      <td>1.0</td>\n",
       "      <td>0.500000</td>\n",
       "      <td>0.909091</td>\n",
       "      <td>1.0</td>\n",
       "      <td>0.0</td>\n",
       "      <td>1.0</td>\n",
       "      <td>0.0</td>\n",
       "      <td>...</td>\n",
       "      <td>0.0</td>\n",
       "      <td>0.0</td>\n",
       "      <td>0.0</td>\n",
       "      <td>0.0</td>\n",
       "      <td>0.0</td>\n",
       "      <td>0.0</td>\n",
       "      <td>0.0</td>\n",
       "      <td>0.0</td>\n",
       "      <td>0.0</td>\n",
       "      <td>0.0</td>\n",
       "    </tr>\n",
       "  </tbody>\n",
       "</table>\n",
       "<p>5 rows × 2242 columns</p>\n",
       "</div>"
      ],
      "text/plain": [
       "   bin_0  bin_1  bin_2  ord_0       day     month  bin_3_F  bin_3_T  bin_4_N  \\\n",
       "0    0.0    0.0    1.0    0.5  0.666667  0.909091      0.0      1.0      0.0   \n",
       "1    0.0    0.0    0.0    0.0  1.000000  0.363636      0.0      1.0      1.0   \n",
       "2    1.0    0.0    1.0    0.5  0.000000  1.000000      1.0      0.0      0.0   \n",
       "3    0.0    0.0    1.0    0.0  0.166667  0.181818      0.0      1.0      0.0   \n",
       "4    0.0    1.0    1.0    1.0  0.500000  0.909091      1.0      0.0      1.0   \n",
       "\n",
       "   bin_4_Y  ...  ord_5_vq  ord_5_vy  ord_5_wu  ord_5_wy  ord_5_xP  ord_5_xy  \\\n",
       "0      1.0  ...       0.0       0.0       0.0       0.0       0.0       0.0   \n",
       "1      0.0  ...       0.0       0.0       0.0       0.0       0.0       0.0   \n",
       "2      1.0  ...       0.0       0.0       0.0       0.0       0.0       0.0   \n",
       "3      1.0  ...       0.0       0.0       0.0       0.0       0.0       0.0   \n",
       "4      0.0  ...       0.0       0.0       0.0       0.0       0.0       0.0   \n",
       "\n",
       "   ord_5_yN  ord_5_yY  ord_5_yc  ord_5_zU  \n",
       "0       0.0       0.0       0.0       0.0  \n",
       "1       0.0       0.0       0.0       0.0  \n",
       "2       0.0       0.0       0.0       0.0  \n",
       "3       0.0       0.0       0.0       0.0  \n",
       "4       0.0       0.0       0.0       0.0  \n",
       "\n",
       "[5 rows x 2242 columns]"
      ]
     },
     "execution_count": 18,
     "metadata": {},
     "output_type": "execute_result"
    }
   ],
   "source": [
    "#get dummies\n",
    "test_df = pd.get_dummies(test_df)\n",
    "scalerX = MinMaxScaler(feature_range = (0, 1))\n",
    "test_df = pd.DataFrame(data = scalerX.fit_transform(test_df), columns = test_df.columns.values)\n",
    "test_df.head()"
   ]
  },
  {
   "cell_type": "code",
   "execution_count": 19,
   "metadata": {},
   "outputs": [
    {
     "data": {
      "text/plain": [
       "(200000, 2241)"
      ]
     },
     "execution_count": 19,
     "metadata": {},
     "output_type": "execute_result"
    }
   ],
   "source": [
    "test_df = test_df[X_train.columns.values]\n",
    "test_df.shape"
   ]
  },
  {
   "cell_type": "code",
   "execution_count": 20,
   "metadata": {},
   "outputs": [
    {
     "data": {
      "text/plain": [
       "array([[0.66655957, 0.33344043],\n",
       "       [0.29799373, 0.70200627],\n",
       "       [0.82147564, 0.17852436],\n",
       "       ...,\n",
       "       [0.65369014, 0.34630986],\n",
       "       [0.44619305, 0.55380695],\n",
       "       [0.76727701, 0.23272299]])"
      ]
     },
     "execution_count": 20,
     "metadata": {},
     "output_type": "execute_result"
    }
   ],
   "source": [
    "y_predict_prob_lr = my_logreg.predict_proba(test_df)\n",
    "y_predict_prob_lr"
   ]
  },
  {
   "cell_type": "code",
   "execution_count": 21,
   "metadata": {},
   "outputs": [],
   "source": [
    "raw_data = {'id':test_id,\n",
    "            'target':y_predict_prob_lr[:,1]}\n",
    "df = pd.DataFrame(raw_data, columns = ['id', 'target'])\n",
    "df.to_csv('lr_Result.csv',index=0)"
   ]
  },
  {
   "cell_type": "markdown",
   "metadata": {},
   "source": [
    "# Tensorflow"
   ]
  },
  {
   "cell_type": "code",
   "execution_count": 10,
   "metadata": {},
   "outputs": [
    {
     "name": "stderr",
     "output_type": "stream",
     "text": [
      "Using TensorFlow backend.\n"
     ]
    }
   ],
   "source": [
    "import numpy as np\n",
    "from keras.models import Sequential\n",
    "from keras.layers import Dense, Dropout, Activation, Flatten\n",
    "import tensorflow as tf"
   ]
  },
  {
   "cell_type": "code",
   "execution_count": 11,
   "metadata": {},
   "outputs": [],
   "source": [
    "def MyMetric(yTrue, yPred):\n",
    "    fpr, tpr, thresholds = metrics.roc_curve(yTrue, yPred, pos_label=1)\n",
    "    return metrics.auc(fpr, tpr)"
   ]
  },
  {
   "cell_type": "code",
   "execution_count": 12,
   "metadata": {},
   "outputs": [],
   "source": [
    "from keras.callbacks import ReduceLROnPlateau\n",
    "# Set a learning rate annealer\n",
    "learning_rate_reduction = ReduceLROnPlateau(monitor='val_acc', \n",
    "                                            patience=3, \n",
    "                                            verbose=1, \n",
    "                                            factor=0.5, \n",
    "                                            min_lr=0.00001)"
   ]
  },
  {
   "cell_type": "code",
   "execution_count": 27,
   "metadata": {
    "scrolled": true
   },
   "outputs": [
    {
     "name": "stdout",
     "output_type": "stream",
     "text": [
      "Train on 49000 samples, validate on 21000 samples\n",
      "Epoch 1/10\n",
      "49000/49000 [==============================] - 7s 137us/step - loss: 0.5619 - acc: 0.7144 - val_loss: 0.5175 - val_acc: 0.7451\n",
      "Epoch 2/10\n",
      "49000/49000 [==============================] - 6s 132us/step - loss: 0.5071 - acc: 0.7525 - val_loss: 0.5084 - val_acc: 0.7475\n",
      "Epoch 3/10\n",
      "49000/49000 [==============================] - 6s 132us/step - loss: 0.4860 - acc: 0.7665 - val_loss: 0.5060 - val_acc: 0.7512\n",
      "Epoch 4/10\n",
      "49000/49000 [==============================] - 6s 132us/step - loss: 0.4705 - acc: 0.7781 - val_loss: 0.5088 - val_acc: 0.7475\n",
      "Epoch 5/10\n",
      "49000/49000 [==============================] - 6s 130us/step - loss: 0.4548 - acc: 0.7882 - val_loss: 0.5155 - val_acc: 0.7470\n",
      "Epoch 6/10\n",
      "49000/49000 [==============================] - 6s 130us/step - loss: 0.4409 - acc: 0.7982 - val_loss: 0.5296 - val_acc: 0.7446\n",
      "\n",
      "Epoch 00006: ReduceLROnPlateau reducing learning rate to 0.0005000000237487257.\n",
      "Epoch 7/10\n",
      "49000/49000 [==============================] - 7s 136us/step - loss: 0.4193 - acc: 0.8129 - val_loss: 0.5340 - val_acc: 0.7440\n",
      "Epoch 8/10\n",
      "49000/49000 [==============================] - 6s 133us/step - loss: 0.4081 - acc: 0.8202 - val_loss: 0.5409 - val_acc: 0.7424\n",
      "Epoch 9/10\n",
      "49000/49000 [==============================] - 6s 131us/step - loss: 0.3992 - acc: 0.8241 - val_loss: 0.5483 - val_acc: 0.7380\n",
      "\n",
      "Epoch 00009: ReduceLROnPlateau reducing learning rate to 0.0002500000118743628.\n",
      "Epoch 10/10\n",
      "49000/49000 [==============================] - 6s 131us/step - loss: 0.3868 - acc: 0.8335 - val_loss: 0.5533 - val_acc: 0.7376\n"
     ]
    }
   ],
   "source": [
    "model = Sequential()\n",
    "\n",
    "input_size = X.shape[1]\n",
    "\n",
    "model.add(Dense(64, input_dim=input_size, activation='relu'))\n",
    "model.add(Dropout(0.5))\n",
    "model.add(Dense(64, activation='relu'))\n",
    "model.add(Dropout(0.5))\n",
    "model.add(Dense(1, activation='sigmoid'))\n",
    "\n",
    "model.compile(loss='binary_crossentropy',\n",
    "              optimizer='rmsprop',\n",
    "              metrics=['accuracy'])\n",
    "\n",
    "fitted_model = model.fit(X_train, y_train, validation_split=0.3,\n",
    "                         callbacks=[learning_rate_reduction], batch_size=256, epochs=10, verbose=1)"
   ]
  },
  {
   "cell_type": "code",
   "execution_count": 28,
   "metadata": {},
   "outputs": [
    {
     "name": "stdout",
     "output_type": "stream",
     "text": [
      "30000/30000 [==============================] - 3s 94us/step\n",
      "The accuracy is:  0.7396\n"
     ]
    }
   ],
   "source": [
    "# Evaluation:\n",
    "score = model.evaluate(X_test, y_test, verbose=1)\n",
    "print('The accuracy is: ', score[1])"
   ]
  },
  {
   "cell_type": "code",
   "execution_count": 29,
   "metadata": {},
   "outputs": [
    {
     "name": "stdout",
     "output_type": "stream",
     "text": [
      "30000/30000 [==============================] - 3s 84us/step\n"
     ]
    },
    {
     "data": {
      "text/plain": [
       "0.7593789694653128"
      ]
     },
     "execution_count": 29,
     "metadata": {},
     "output_type": "execute_result"
    }
   ],
   "source": [
    "# Prediction:\n",
    "y_proba = model.predict_proba(X_test, verbose=1)\n",
    "fpr, tpr, thresholds = metrics.roc_curve(y_test, y_proba, pos_label=1)\n",
    "auc = metrics.auc(fpr, tpr)\n",
    "auc"
   ]
  },
  {
   "cell_type": "code",
   "execution_count": null,
   "metadata": {},
   "outputs": [],
   "source": []
  },
  {
   "cell_type": "code",
   "execution_count": null,
   "metadata": {},
   "outputs": [],
   "source": []
  }
 ],
 "metadata": {
  "kernelspec": {
   "display_name": "Python 3",
   "language": "python",
   "name": "python3"
  },
  "language_info": {
   "codemirror_mode": {
    "name": "ipython",
    "version": 3
   },
   "file_extension": ".py",
   "mimetype": "text/x-python",
   "name": "python",
   "nbconvert_exporter": "python",
   "pygments_lexer": "ipython3",
   "version": "3.7.3"
  }
 },
 "nbformat": 4,
 "nbformat_minor": 2
}
